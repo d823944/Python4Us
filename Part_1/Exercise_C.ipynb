{
 "cells": [
  {
   "cell_type": "markdown",
   "metadata": {},
   "source": [
    "##### EX_C1: 小樂透\n",
    "- 請玩家下注, 10元可以玩一次 (不找零)\n",
    "- 使用者按鍵後, 產生一個 0 ~ 10之間的整數亂數 x\n",
    "- 每一輪彩金 = x\n",
    "- 每一輪執行後, 印出亂數號碼, 累計彩金\n",
    "- 結束後, 幫玩家計算賺或賠多少錢"
   ]
  },
  {
   "cell_type": "code",
   "execution_count": null,
   "metadata": {},
   "outputs": [],
   "source": [
    "\"\"\"\n",
    "參考程式碼 (請自行修改細節)\n",
    "\"\"\"\n",
    "\n",
    "import random\n",
    "\n",
    "base = int(input(\"請下注: \"))\n",
    "print(f\"你可以玩 {base // 10} 次\")\n",
    "\n",
    "total = 0\n",
    "for i in range(base // 10):\n",
    "    input(f\"請抽第 {i+1} 個號碼!\")\n",
    "    x = random.randint(0, 10)\n",
    "    total += x\n",
    "    print(f\"號碼 = {x}, 累計彩金 = {total}\")\n",
    "\n",
    "print(f\"你贏了 {total - base} 元\")"
   ]
  },
  {
   "cell_type": "markdown",
   "metadata": {},
   "source": [
    "##### EX_C2: 大樂透\n",
    "- 請自行修改賠率或遊戲規則"
   ]
  },
  {
   "cell_type": "code",
   "execution_count": null,
   "metadata": {},
   "outputs": [],
   "source": [
    "\"\"\"\n",
    "Your code here\n",
    "\"\"\""
   ]
  },
  {
   "cell_type": "markdown",
   "metadata": {},
   "source": [
    "#### EX_C3: 請使用者輸入兩個數字(N1, N2), 以while迴圈計算N1和N2之間的偶數和"
   ]
  },
  {
   "cell_type": "code",
   "execution_count": null,
   "metadata": {},
   "outputs": [],
   "source": [
    "N1, N2 = input(\"Enter two numbers (separated with ' '): \").split(' ')\n",
    "N1 = int(N1)\n",
    "N2 = int(N2)\n",
    "print(N1)\n",
    "print(N2)\n",
    "\"\"\"\n",
    "Your code here\n",
    "\"\"\""
   ]
  }
 ],
 "metadata": {
  "kernelspec": {
   "display_name": "Python 3",
   "language": "python",
   "name": "python3"
  },
  "language_info": {
   "codemirror_mode": {
    "name": "ipython",
    "version": 3
   },
   "file_extension": ".py",
   "mimetype": "text/x-python",
   "name": "python",
   "nbconvert_exporter": "python",
   "pygments_lexer": "ipython3",
   "version": "3.7.2"
  }
 },
 "nbformat": 4,
 "nbformat_minor": 2
}
