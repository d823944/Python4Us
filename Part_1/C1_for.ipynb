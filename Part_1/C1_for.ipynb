{
 "cells": [
  {
   "cell_type": "code",
   "execution_count": 1,
   "metadata": {},
   "outputs": [],
   "source": [
    "range?"
   ]
  },
  {
   "cell_type": "code",
   "execution_count": 2,
   "metadata": {},
   "outputs": [
    {
     "name": "stdout",
     "output_type": "stream",
     "text": [
      "0\n",
      "1\n",
      "2\n",
      "3\n",
      "4\n",
      "5\n",
      "6\n",
      "7\n",
      "8\n",
      "9\n"
     ]
    }
   ],
   "source": [
    "for i in range(0, 10, 1):\n",
    "    print(i)"
   ]
  },
  {
   "cell_type": "code",
   "execution_count": 3,
   "metadata": {},
   "outputs": [
    {
     "name": "stdout",
     "output_type": "stream",
     "text": [
      "0\n",
      "1\n",
      "2\n",
      "3\n",
      "4\n",
      "5\n",
      "6\n",
      "7\n",
      "8\n",
      "9\n"
     ]
    }
   ],
   "source": [
    "for i in range(10):\n",
    "    print(i)"
   ]
  },
  {
   "cell_type": "code",
   "execution_count": 4,
   "metadata": {},
   "outputs": [
    {
     "name": "stdout",
     "output_type": "stream",
     "text": [
      "2\n",
      "4\n",
      "6\n",
      "8\n"
     ]
    }
   ],
   "source": [
    "for i in range(2, 10, 2):\n",
    "    print(i)"
   ]
  },
  {
   "cell_type": "code",
   "execution_count": 5,
   "metadata": {},
   "outputs": [
    {
     "name": "stdout",
     "output_type": "stream",
     "text": [
      "55\n"
     ]
    }
   ],
   "source": [
    "# 計算 1+2+3+4+5+6+7+8+9+10\n",
    "\n",
    "total = 0\n",
    "for i in range(1, 11, 1):\n",
    "    total += i\n",
    "    \n",
    "print(total)"
   ]
  },
  {
   "cell_type": "code",
   "execution_count": 6,
   "metadata": {},
   "outputs": [
    {
     "name": "stdout",
     "output_type": "stream",
     "text": [
      "2 x 2 =  4    2 x 3 =  6    2 x 4 =  8    2 x 5 = 10    2 x 6 = 12    2 x 7 = 14    2 x 8 = 16    2 x 9 = 18    \n",
      "3 x 2 =  6    3 x 3 =  9    3 x 4 = 12    3 x 5 = 15    3 x 6 = 18    3 x 7 = 21    3 x 8 = 24    3 x 9 = 27    \n",
      "4 x 2 =  8    4 x 3 = 12    4 x 4 = 16    4 x 5 = 20    4 x 6 = 24    4 x 7 = 28    4 x 8 = 32    4 x 9 = 36    \n",
      "5 x 2 = 10    5 x 3 = 15    5 x 4 = 20    5 x 5 = 25    5 x 6 = 30    5 x 7 = 35    5 x 8 = 40    5 x 9 = 45    \n",
      "6 x 2 = 12    6 x 3 = 18    6 x 4 = 24    6 x 5 = 30    6 x 6 = 36    6 x 7 = 42    6 x 8 = 48    6 x 9 = 54    \n",
      "7 x 2 = 14    7 x 3 = 21    7 x 4 = 28    7 x 5 = 35    7 x 6 = 42    7 x 7 = 49    7 x 8 = 56    7 x 9 = 63    \n",
      "8 x 2 = 16    8 x 3 = 24    8 x 4 = 32    8 x 5 = 40    8 x 6 = 48    8 x 7 = 56    8 x 8 = 64    8 x 9 = 72    \n",
      "9 x 2 = 18    9 x 3 = 27    9 x 4 = 36    9 x 5 = 45    9 x 6 = 54    9 x 7 = 63    9 x 8 = 72    9 x 9 = 81    \n"
     ]
    }
   ],
   "source": [
    "for i in range(2, 10):\n",
    "    for j in range(2, 10):\n",
    "        print(f\"{i} x {j} = {i*j:2d}    \", end='')\n",
    "    print()"
   ]
  },
  {
   "cell_type": "code",
   "execution_count": 7,
   "metadata": {},
   "outputs": [
    {
     "name": "stdout",
     "output_type": "stream",
     "text": [
      "2 x 2 =  4    3 x 2 =  6    4 x 2 =  8    5 x 2 = 10    6 x 2 = 12    7 x 2 = 14    8 x 2 = 16    9 x 2 = 18    \n",
      "2 x 3 =  6    3 x 3 =  9    4 x 3 = 12    5 x 3 = 15    6 x 3 = 18    7 x 3 = 21    8 x 3 = 24    9 x 3 = 27    \n",
      "2 x 4 =  8    3 x 4 = 12    4 x 4 = 16    5 x 4 = 20    6 x 4 = 24    7 x 4 = 28    8 x 4 = 32    9 x 4 = 36    \n",
      "2 x 5 = 10    3 x 5 = 15    4 x 5 = 20    5 x 5 = 25    6 x 5 = 30    7 x 5 = 35    8 x 5 = 40    9 x 5 = 45    \n",
      "2 x 6 = 12    3 x 6 = 18    4 x 6 = 24    5 x 6 = 30    6 x 6 = 36    7 x 6 = 42    8 x 6 = 48    9 x 6 = 54    \n",
      "2 x 7 = 14    3 x 7 = 21    4 x 7 = 28    5 x 7 = 35    6 x 7 = 42    7 x 7 = 49    8 x 7 = 56    9 x 7 = 63    \n",
      "2 x 8 = 16    3 x 8 = 24    4 x 8 = 32    5 x 8 = 40    6 x 8 = 48    7 x 8 = 56    8 x 8 = 64    9 x 8 = 72    \n",
      "2 x 9 = 18    3 x 9 = 27    4 x 9 = 36    5 x 9 = 45    6 x 9 = 54    7 x 9 = 63    8 x 9 = 72    9 x 9 = 81    \n"
     ]
    }
   ],
   "source": [
    "for i in range(2, 10):\n",
    "    for j in range(2, 10):\n",
    "        print(f\"{j} x {i} = {i*j:2d}    \", end='')\n",
    "    print()"
   ]
  },
  {
   "cell_type": "code",
   "execution_count": null,
   "metadata": {},
   "outputs": [],
   "source": []
  }
 ],
 "metadata": {
  "kernelspec": {
   "display_name": "Python 3",
   "language": "python",
   "name": "python3"
  },
  "language_info": {
   "codemirror_mode": {
    "name": "ipython",
    "version": 3
   },
   "file_extension": ".py",
   "mimetype": "text/x-python",
   "name": "python",
   "nbconvert_exporter": "python",
   "pygments_lexer": "ipython3",
   "version": "3.7.2"
  }
 },
 "nbformat": 4,
 "nbformat_minor": 2
}
