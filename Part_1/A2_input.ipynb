{
 "cells": [
  {
   "cell_type": "code",
   "execution_count": 1,
   "metadata": {},
   "outputs": [],
   "source": [
    "input?"
   ]
  },
  {
   "cell_type": "code",
   "execution_count": 2,
   "metadata": {},
   "outputs": [
    {
     "name": "stdout",
     "output_type": "stream",
     "text": [
      "What's your name? Amy\n",
      "Amy\n"
     ]
    }
   ],
   "source": [
    "# input(prompt='')\n",
    "# return a string\n",
    "# store (assign) the return string to a variable\n",
    "\n",
    "name = input(\"What's your name? \")\n",
    "print(name)"
   ]
  },
  {
   "cell_type": "code",
   "execution_count": 3,
   "metadata": {},
   "outputs": [
    {
     "name": "stdout",
     "output_type": "stream",
     "text": [
      "Input the first number: 22\n",
      "Input the second number: 66\n",
      "2266\n"
     ]
    }
   ],
   "source": [
    "number_1 = input(\"Input the first number: \")\n",
    "number_2 = input(\"Input the second number: \")\n",
    "\n",
    "print(number_1 + number_2)"
   ]
  },
  {
   "cell_type": "code",
   "execution_count": 4,
   "metadata": {},
   "outputs": [
    {
     "name": "stdout",
     "output_type": "stream",
     "text": [
      "Input the first number: 22\n",
      "Input the second number: 66\n",
      "88\n"
     ]
    }
   ],
   "source": [
    "# int()  -->  Convert a number or string to an integer\n",
    "\n",
    "number_1 = int( input(\"Input the first number: \") )\n",
    "number_2 = int( input(\"Input the second number: \") )\n",
    "\n",
    "print(number_1 + number_2)"
   ]
  },
  {
   "cell_type": "code",
   "execution_count": 5,
   "metadata": {},
   "outputs": [
    {
     "name": "stdout",
     "output_type": "stream",
     "text": [
      "What's your name? Amy\n",
      "Hello, Amy.\n"
     ]
    }
   ],
   "source": [
    "# f-string 字串格式化\n",
    "\n",
    "name = input(\"What's your name? \")\n",
    "print(f\"Hello, {name}.\")"
   ]
  },
  {
   "cell_type": "code",
   "execution_count": 6,
   "metadata": {},
   "outputs": [
    {
     "name": "stdout",
     "output_type": "stream",
     "text": [
      "Input the first number: 22\n",
      "Input the second number: 66\n",
      "22 + 66 = 88\n"
     ]
    }
   ],
   "source": [
    "# f-string 字串格式化\n",
    "number_1 = int( input(\"Input the first number: \") )\n",
    "number_2 = int( input(\"Input the second number: \") )\n",
    "\n",
    "print(f\"{number_1} + {number_2} = {number_1 + number_2}\")"
   ]
  },
  {
   "cell_type": "code",
   "execution_count": null,
   "metadata": {},
   "outputs": [],
   "source": []
  }
 ],
 "metadata": {
  "kernelspec": {
   "display_name": "Python 3",
   "language": "python",
   "name": "python3"
  },
  "language_info": {
   "codemirror_mode": {
    "name": "ipython",
    "version": 3
   },
   "file_extension": ".py",
   "mimetype": "text/x-python",
   "name": "python",
   "nbconvert_exporter": "python",
   "pygments_lexer": "ipython3",
   "version": "3.7.2"
  }
 },
 "nbformat": 4,
 "nbformat_minor": 2
}
