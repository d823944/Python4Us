{
 "cells": [
  {
   "cell_type": "code",
   "execution_count": 1,
   "metadata": {},
   "outputs": [
    {
     "name": "stdout",
     "output_type": "stream",
     "text": [
      "Please input your password: 1111\n",
      "Try again\n",
      "Please input your password: 2222\n",
      "Try again\n",
      "Please input your password: 1234\n",
      "Welcome\n"
     ]
    }
   ],
   "source": [
    "n_entry = 1\n",
    "answer = '1234'\n",
    "while n_entry <= 3:\n",
    "    password = input(\"Please input your password: \")\n",
    "    if password == answer:\n",
    "        print(\"Welcome\")\n",
    "        break\n",
    "    elif n_entry == 3:\n",
    "        print(\"Bye bye\")\n",
    "        break\n",
    "    else:\n",
    "        n_entry += 1\n",
    "        print(\"Try again\")\n",
    "        continue  # 在這裡寫不寫都可以"
   ]
  },
  {
   "cell_type": "code",
   "execution_count": 2,
   "metadata": {},
   "outputs": [
    {
     "name": "stdout",
     "output_type": "stream",
     "text": [
      "Your guess (0~100)? 50\n",
      "Your guess is too large\n",
      "Your guess (0~100)? 25\n",
      "You guess is too small\n",
      "Your guess (0~100)? 37\n",
      "Your guess is too large\n",
      "Your guess (0~100)? 31\n",
      "Bingo\n"
     ]
    }
   ],
   "source": [
    "import random\n",
    "\n",
    "answer = random.randint(0, 100)\n",
    "guess = -1\n",
    "while guess != answer:\n",
    "    guess = int(input('Your guess (0~100)? '))\n",
    "    if guess > answer:\n",
    "        print('Your guess is too large')\n",
    "    elif guess < answer:\n",
    "        print('You guess is too small')\n",
    "    else:\n",
    "        print('Bingo')"
   ]
  },
  {
   "cell_type": "code",
   "execution_count": null,
   "metadata": {},
   "outputs": [],
   "source": []
  }
 ],
 "metadata": {
  "kernelspec": {
   "display_name": "Python 3",
   "language": "python",
   "name": "python3"
  },
  "language_info": {
   "codemirror_mode": {
    "name": "ipython",
    "version": 3
   },
   "file_extension": ".py",
   "mimetype": "text/x-python",
   "name": "python",
   "nbconvert_exporter": "python",
   "pygments_lexer": "ipython3",
   "version": "3.7.2"
  }
 },
 "nbformat": 4,
 "nbformat_minor": 2
}
